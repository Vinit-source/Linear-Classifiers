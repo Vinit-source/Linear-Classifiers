{
  "nbformat": 4,
  "nbformat_minor": 0,
  "metadata": {
    "kernelspec": {
      "name": "python3",
      "display_name": "Python 3",
      "language": "python"
    },
    "language_info": {
      "name": "python",
      "version": "3.7.6",
      "mimetype": "text/x-python",
      "codemirror_mode": {
        "name": "ipython",
        "version": 3
      },
      "pygments_lexer": "ipython3",
      "nbconvert_exporter": "python",
      "file_extension": ".py"
    },
    "colab": {
      "name": "Linear Classifiers.ipynb",
      "provenance": [],
      "collapsed_sections": []
    }
  },
  "cells": [
    {
      "cell_type": "code",
      "metadata": {
        "_uuid": "8f2839f25d086af736a60e9eeb907d3b93b6e0e5",
        "_cell_guid": "b1076dfc-b9ad-4769-8c92-a6c4dae69d19",
        "trusted": true,
        "id": "NJ63xhHfcPih"
      },
      "source": [
        "#import numpy and pandas\n",
        "import numpy as np \n",
        "import pandas as pd "
      ],
      "execution_count": null,
      "outputs": []
    },
    {
      "cell_type": "code",
      "metadata": {
        "_uuid": "d629ff2d2480ee46fbb7e2d37f6b5fab8052498a",
        "_cell_guid": "79c7e3d0-c299-4dcb-8224-4455121ee9b0",
        "trusted": true,
        "id": "aRexW4SncPip",
        "colab": {
          "base_uri": "https://localhost:8080/"
        },
        "outputId": "b1d9c8cd-5c3b-4d8e-cb35-277131fcd7e3"
      },
      "source": [
        "#read and analyse the adult dataset\n",
        "df = pd.read_csv('/content/adult.data.csv')\n",
        "print(df.head())\n",
        "print(df.dtypes)\n",
        "print(df.salary.unique())"
      ],
      "execution_count": null,
      "outputs": [
        {
          "output_type": "stream",
          "text": [
            "   age         workclass  fnlwgt  ... hours-per-week  native-country salary\n",
            "0   39         State-gov   77516  ...             40   United-States  <=50K\n",
            "1   50  Self-emp-not-inc   83311  ...             13   United-States  <=50K\n",
            "2   38           Private  215646  ...             40   United-States  <=50K\n",
            "3   53           Private  234721  ...             40   United-States  <=50K\n",
            "4   28           Private  338409  ...             40            Cuba  <=50K\n",
            "\n",
            "[5 rows x 15 columns]\n",
            "age                int64\n",
            "workclass         object\n",
            "fnlwgt             int64\n",
            "education         object\n",
            "education-num      int64\n",
            "marital-status    object\n",
            "occupation        object\n",
            "relationship      object\n",
            "race              object\n",
            "sex               object\n",
            "capital-gain       int64\n",
            "capital-loss       int64\n",
            "hours-per-week     int64\n",
            "native-country    object\n",
            "salary            object\n",
            "dtype: object\n",
            "['<=50K' '>50K']\n"
          ],
          "name": "stdout"
        }
      ]
    },
    {
      "cell_type": "code",
      "metadata": {
        "id": "xbgTuser5OoS",
        "colab": {
          "base_uri": "https://localhost:8080/",
          "height": 724
        },
        "outputId": "4b3ec675-79fb-4629-c96a-448449afbad3"
      },
      "source": [
        "df.convert_dtypes()"
      ],
      "execution_count": null,
      "outputs": [
        {
          "output_type": "execute_result",
          "data": {
            "text/html": [
              "<div>\n",
              "<style scoped>\n",
              "    .dataframe tbody tr th:only-of-type {\n",
              "        vertical-align: middle;\n",
              "    }\n",
              "\n",
              "    .dataframe tbody tr th {\n",
              "        vertical-align: top;\n",
              "    }\n",
              "\n",
              "    .dataframe thead th {\n",
              "        text-align: right;\n",
              "    }\n",
              "</style>\n",
              "<table border=\"1\" class=\"dataframe\">\n",
              "  <thead>\n",
              "    <tr style=\"text-align: right;\">\n",
              "      <th></th>\n",
              "      <th>age</th>\n",
              "      <th>workclass</th>\n",
              "      <th>fnlwgt</th>\n",
              "      <th>education</th>\n",
              "      <th>education-num</th>\n",
              "      <th>marital-status</th>\n",
              "      <th>occupation</th>\n",
              "      <th>relationship</th>\n",
              "      <th>race</th>\n",
              "      <th>sex</th>\n",
              "      <th>capital-gain</th>\n",
              "      <th>capital-loss</th>\n",
              "      <th>hours-per-week</th>\n",
              "      <th>native-country</th>\n",
              "      <th>salary</th>\n",
              "    </tr>\n",
              "  </thead>\n",
              "  <tbody>\n",
              "    <tr>\n",
              "      <th>0</th>\n",
              "      <td>39</td>\n",
              "      <td>State-gov</td>\n",
              "      <td>77516</td>\n",
              "      <td>Bachelors</td>\n",
              "      <td>13</td>\n",
              "      <td>Never-married</td>\n",
              "      <td>Adm-clerical</td>\n",
              "      <td>Not-in-family</td>\n",
              "      <td>White</td>\n",
              "      <td>Male</td>\n",
              "      <td>2174</td>\n",
              "      <td>0</td>\n",
              "      <td>40</td>\n",
              "      <td>United-States</td>\n",
              "      <td>&lt;=50K</td>\n",
              "    </tr>\n",
              "    <tr>\n",
              "      <th>1</th>\n",
              "      <td>50</td>\n",
              "      <td>Self-emp-not-inc</td>\n",
              "      <td>83311</td>\n",
              "      <td>Bachelors</td>\n",
              "      <td>13</td>\n",
              "      <td>Married-civ-spouse</td>\n",
              "      <td>Exec-managerial</td>\n",
              "      <td>Husband</td>\n",
              "      <td>White</td>\n",
              "      <td>Male</td>\n",
              "      <td>0</td>\n",
              "      <td>0</td>\n",
              "      <td>13</td>\n",
              "      <td>United-States</td>\n",
              "      <td>&lt;=50K</td>\n",
              "    </tr>\n",
              "    <tr>\n",
              "      <th>2</th>\n",
              "      <td>38</td>\n",
              "      <td>Private</td>\n",
              "      <td>215646</td>\n",
              "      <td>HS-grad</td>\n",
              "      <td>9</td>\n",
              "      <td>Divorced</td>\n",
              "      <td>Handlers-cleaners</td>\n",
              "      <td>Not-in-family</td>\n",
              "      <td>White</td>\n",
              "      <td>Male</td>\n",
              "      <td>0</td>\n",
              "      <td>0</td>\n",
              "      <td>40</td>\n",
              "      <td>United-States</td>\n",
              "      <td>&lt;=50K</td>\n",
              "    </tr>\n",
              "    <tr>\n",
              "      <th>3</th>\n",
              "      <td>53</td>\n",
              "      <td>Private</td>\n",
              "      <td>234721</td>\n",
              "      <td>11th</td>\n",
              "      <td>7</td>\n",
              "      <td>Married-civ-spouse</td>\n",
              "      <td>Handlers-cleaners</td>\n",
              "      <td>Husband</td>\n",
              "      <td>Black</td>\n",
              "      <td>Male</td>\n",
              "      <td>0</td>\n",
              "      <td>0</td>\n",
              "      <td>40</td>\n",
              "      <td>United-States</td>\n",
              "      <td>&lt;=50K</td>\n",
              "    </tr>\n",
              "    <tr>\n",
              "      <th>4</th>\n",
              "      <td>28</td>\n",
              "      <td>Private</td>\n",
              "      <td>338409</td>\n",
              "      <td>Bachelors</td>\n",
              "      <td>13</td>\n",
              "      <td>Married-civ-spouse</td>\n",
              "      <td>Prof-specialty</td>\n",
              "      <td>Wife</td>\n",
              "      <td>Black</td>\n",
              "      <td>Female</td>\n",
              "      <td>0</td>\n",
              "      <td>0</td>\n",
              "      <td>40</td>\n",
              "      <td>Cuba</td>\n",
              "      <td>&lt;=50K</td>\n",
              "    </tr>\n",
              "    <tr>\n",
              "      <th>...</th>\n",
              "      <td>...</td>\n",
              "      <td>...</td>\n",
              "      <td>...</td>\n",
              "      <td>...</td>\n",
              "      <td>...</td>\n",
              "      <td>...</td>\n",
              "      <td>...</td>\n",
              "      <td>...</td>\n",
              "      <td>...</td>\n",
              "      <td>...</td>\n",
              "      <td>...</td>\n",
              "      <td>...</td>\n",
              "      <td>...</td>\n",
              "      <td>...</td>\n",
              "      <td>...</td>\n",
              "    </tr>\n",
              "    <tr>\n",
              "      <th>32556</th>\n",
              "      <td>27</td>\n",
              "      <td>Private</td>\n",
              "      <td>257302</td>\n",
              "      <td>Assoc-acdm</td>\n",
              "      <td>12</td>\n",
              "      <td>Married-civ-spouse</td>\n",
              "      <td>Tech-support</td>\n",
              "      <td>Wife</td>\n",
              "      <td>White</td>\n",
              "      <td>Female</td>\n",
              "      <td>0</td>\n",
              "      <td>0</td>\n",
              "      <td>38</td>\n",
              "      <td>United-States</td>\n",
              "      <td>&lt;=50K</td>\n",
              "    </tr>\n",
              "    <tr>\n",
              "      <th>32557</th>\n",
              "      <td>40</td>\n",
              "      <td>Private</td>\n",
              "      <td>154374</td>\n",
              "      <td>HS-grad</td>\n",
              "      <td>9</td>\n",
              "      <td>Married-civ-spouse</td>\n",
              "      <td>Machine-op-inspct</td>\n",
              "      <td>Husband</td>\n",
              "      <td>White</td>\n",
              "      <td>Male</td>\n",
              "      <td>0</td>\n",
              "      <td>0</td>\n",
              "      <td>40</td>\n",
              "      <td>United-States</td>\n",
              "      <td>&gt;50K</td>\n",
              "    </tr>\n",
              "    <tr>\n",
              "      <th>32558</th>\n",
              "      <td>58</td>\n",
              "      <td>Private</td>\n",
              "      <td>151910</td>\n",
              "      <td>HS-grad</td>\n",
              "      <td>9</td>\n",
              "      <td>Widowed</td>\n",
              "      <td>Adm-clerical</td>\n",
              "      <td>Unmarried</td>\n",
              "      <td>White</td>\n",
              "      <td>Female</td>\n",
              "      <td>0</td>\n",
              "      <td>0</td>\n",
              "      <td>40</td>\n",
              "      <td>United-States</td>\n",
              "      <td>&lt;=50K</td>\n",
              "    </tr>\n",
              "    <tr>\n",
              "      <th>32559</th>\n",
              "      <td>22</td>\n",
              "      <td>Private</td>\n",
              "      <td>201490</td>\n",
              "      <td>HS-grad</td>\n",
              "      <td>9</td>\n",
              "      <td>Never-married</td>\n",
              "      <td>Adm-clerical</td>\n",
              "      <td>Own-child</td>\n",
              "      <td>White</td>\n",
              "      <td>Male</td>\n",
              "      <td>0</td>\n",
              "      <td>0</td>\n",
              "      <td>20</td>\n",
              "      <td>United-States</td>\n",
              "      <td>&lt;=50K</td>\n",
              "    </tr>\n",
              "    <tr>\n",
              "      <th>32560</th>\n",
              "      <td>52</td>\n",
              "      <td>Self-emp-inc</td>\n",
              "      <td>287927</td>\n",
              "      <td>HS-grad</td>\n",
              "      <td>9</td>\n",
              "      <td>Married-civ-spouse</td>\n",
              "      <td>Exec-managerial</td>\n",
              "      <td>Wife</td>\n",
              "      <td>White</td>\n",
              "      <td>Female</td>\n",
              "      <td>15024</td>\n",
              "      <td>0</td>\n",
              "      <td>40</td>\n",
              "      <td>United-States</td>\n",
              "      <td>&gt;50K</td>\n",
              "    </tr>\n",
              "  </tbody>\n",
              "</table>\n",
              "<p>32561 rows × 15 columns</p>\n",
              "</div>"
            ],
            "text/plain": [
              "       age         workclass  fnlwgt  ... hours-per-week  native-country salary\n",
              "0       39         State-gov   77516  ...             40   United-States  <=50K\n",
              "1       50  Self-emp-not-inc   83311  ...             13   United-States  <=50K\n",
              "2       38           Private  215646  ...             40   United-States  <=50K\n",
              "3       53           Private  234721  ...             40   United-States  <=50K\n",
              "4       28           Private  338409  ...             40            Cuba  <=50K\n",
              "...    ...               ...     ...  ...            ...             ...    ...\n",
              "32556   27           Private  257302  ...             38   United-States  <=50K\n",
              "32557   40           Private  154374  ...             40   United-States   >50K\n",
              "32558   58           Private  151910  ...             40   United-States  <=50K\n",
              "32559   22           Private  201490  ...             20   United-States  <=50K\n",
              "32560   52      Self-emp-inc  287927  ...             40   United-States   >50K\n",
              "\n",
              "[32561 rows x 15 columns]"
            ]
          },
          "metadata": {
            "tags": []
          },
          "execution_count": 3
        }
      ]
    },
    {
      "cell_type": "code",
      "metadata": {
        "id": "kZivCRVqm0VG",
        "colab": {
          "base_uri": "https://localhost:8080/",
          "height": 195
        },
        "outputId": "643af88c-5dfb-4207-c19f-937e3d287bd1"
      },
      "source": [
        "X = df[['age','fnlwgt','education-num','capital-gain','capital-loss','hours-per-week']]\n",
        "# X = X.loc[:100]\n",
        "X = X.loc[:10000]\n",
        "X.head()"
      ],
      "execution_count": null,
      "outputs": [
        {
          "output_type": "execute_result",
          "data": {
            "text/html": [
              "<div>\n",
              "<style scoped>\n",
              "    .dataframe tbody tr th:only-of-type {\n",
              "        vertical-align: middle;\n",
              "    }\n",
              "\n",
              "    .dataframe tbody tr th {\n",
              "        vertical-align: top;\n",
              "    }\n",
              "\n",
              "    .dataframe thead th {\n",
              "        text-align: right;\n",
              "    }\n",
              "</style>\n",
              "<table border=\"1\" class=\"dataframe\">\n",
              "  <thead>\n",
              "    <tr style=\"text-align: right;\">\n",
              "      <th></th>\n",
              "      <th>age</th>\n",
              "      <th>fnlwgt</th>\n",
              "      <th>education-num</th>\n",
              "      <th>capital-gain</th>\n",
              "      <th>capital-loss</th>\n",
              "      <th>hours-per-week</th>\n",
              "    </tr>\n",
              "  </thead>\n",
              "  <tbody>\n",
              "    <tr>\n",
              "      <th>0</th>\n",
              "      <td>39</td>\n",
              "      <td>77516</td>\n",
              "      <td>13</td>\n",
              "      <td>2174</td>\n",
              "      <td>0</td>\n",
              "      <td>40</td>\n",
              "    </tr>\n",
              "    <tr>\n",
              "      <th>1</th>\n",
              "      <td>50</td>\n",
              "      <td>83311</td>\n",
              "      <td>13</td>\n",
              "      <td>0</td>\n",
              "      <td>0</td>\n",
              "      <td>13</td>\n",
              "    </tr>\n",
              "    <tr>\n",
              "      <th>2</th>\n",
              "      <td>38</td>\n",
              "      <td>215646</td>\n",
              "      <td>9</td>\n",
              "      <td>0</td>\n",
              "      <td>0</td>\n",
              "      <td>40</td>\n",
              "    </tr>\n",
              "    <tr>\n",
              "      <th>3</th>\n",
              "      <td>53</td>\n",
              "      <td>234721</td>\n",
              "      <td>7</td>\n",
              "      <td>0</td>\n",
              "      <td>0</td>\n",
              "      <td>40</td>\n",
              "    </tr>\n",
              "    <tr>\n",
              "      <th>4</th>\n",
              "      <td>28</td>\n",
              "      <td>338409</td>\n",
              "      <td>13</td>\n",
              "      <td>0</td>\n",
              "      <td>0</td>\n",
              "      <td>40</td>\n",
              "    </tr>\n",
              "  </tbody>\n",
              "</table>\n",
              "</div>"
            ],
            "text/plain": [
              "   age  fnlwgt  education-num  capital-gain  capital-loss  hours-per-week\n",
              "0   39   77516             13          2174             0              40\n",
              "1   50   83311             13             0             0              13\n",
              "2   38  215646              9             0             0              40\n",
              "3   53  234721              7             0             0              40\n",
              "4   28  338409             13             0             0              40"
            ]
          },
          "metadata": {
            "tags": []
          },
          "execution_count": 4
        }
      ]
    },
    {
      "cell_type": "code",
      "metadata": {
        "id": "w9fWD71cnaSs"
      },
      "source": [
        "# y = df.loc[:100,'salary']\n",
        "y = df.loc[:10000,'salary']\n",
        "y.replace('<=50K', -1, inplace = True)\n",
        "y.replace('>50K',1, inplace = True)"
      ],
      "execution_count": null,
      "outputs": []
    },
    {
      "cell_type": "code",
      "metadata": {
        "id": "eUi9eFOmowzI",
        "cellView": "code",
        "colab": {
          "base_uri": "https://localhost:8080/",
          "height": 195
        },
        "outputId": "176ff7b3-1ca5-477a-ed3f-ceab9a175e88"
      },
      "source": [
        "#standardizing the data\n",
        "from sklearn.preprocessing import StandardScaler\n",
        "\n",
        "#creating copies of original data to compare later\n",
        "X_stand = X.copy()\n",
        "\n",
        "# fit on data\n",
        "scale = StandardScaler().fit(X_stand)\n",
        "\n",
        "# transform the data \n",
        "X_stand = pd.DataFrame(scale.transform(X_stand))\n",
        "\n",
        "#transformed data\n",
        "X_stand.head()"
      ],
      "execution_count": null,
      "outputs": [
        {
          "output_type": "execute_result",
          "data": {
            "text/html": [
              "<div>\n",
              "<style scoped>\n",
              "    .dataframe tbody tr th:only-of-type {\n",
              "        vertical-align: middle;\n",
              "    }\n",
              "\n",
              "    .dataframe tbody tr th {\n",
              "        vertical-align: top;\n",
              "    }\n",
              "\n",
              "    .dataframe thead th {\n",
              "        text-align: right;\n",
              "    }\n",
              "</style>\n",
              "<table border=\"1\" class=\"dataframe\">\n",
              "  <thead>\n",
              "    <tr style=\"text-align: right;\">\n",
              "      <th></th>\n",
              "      <th>0</th>\n",
              "      <th>1</th>\n",
              "      <th>2</th>\n",
              "      <th>3</th>\n",
              "      <th>4</th>\n",
              "      <th>5</th>\n",
              "    </tr>\n",
              "  </thead>\n",
              "  <tbody>\n",
              "    <tr>\n",
              "      <th>0</th>\n",
              "      <td>0.040337</td>\n",
              "      <td>-1.064736</td>\n",
              "      <td>1.147371</td>\n",
              "      <td>0.153488</td>\n",
              "      <td>-0.218974</td>\n",
              "      <td>-0.043274</td>\n",
              "    </tr>\n",
              "    <tr>\n",
              "      <th>1</th>\n",
              "      <td>0.849371</td>\n",
              "      <td>-1.010208</td>\n",
              "      <td>1.147371</td>\n",
              "      <td>-0.145490</td>\n",
              "      <td>-0.218974</td>\n",
              "      <td>-2.242628</td>\n",
              "    </tr>\n",
              "    <tr>\n",
              "      <th>2</th>\n",
              "      <td>-0.033211</td>\n",
              "      <td>0.234991</td>\n",
              "      <td>-0.422538</td>\n",
              "      <td>-0.145490</td>\n",
              "      <td>-0.218974</td>\n",
              "      <td>-0.043274</td>\n",
              "    </tr>\n",
              "    <tr>\n",
              "      <th>3</th>\n",
              "      <td>1.070017</td>\n",
              "      <td>0.414476</td>\n",
              "      <td>-1.207493</td>\n",
              "      <td>-0.145490</td>\n",
              "      <td>-0.218974</td>\n",
              "      <td>-0.043274</td>\n",
              "    </tr>\n",
              "    <tr>\n",
              "      <th>4</th>\n",
              "      <td>-0.768697</td>\n",
              "      <td>1.390122</td>\n",
              "      <td>1.147371</td>\n",
              "      <td>-0.145490</td>\n",
              "      <td>-0.218974</td>\n",
              "      <td>-0.043274</td>\n",
              "    </tr>\n",
              "  </tbody>\n",
              "</table>\n",
              "</div>"
            ],
            "text/plain": [
              "          0         1         2         3         4         5\n",
              "0  0.040337 -1.064736  1.147371  0.153488 -0.218974 -0.043274\n",
              "1  0.849371 -1.010208  1.147371 -0.145490 -0.218974 -2.242628\n",
              "2 -0.033211  0.234991 -0.422538 -0.145490 -0.218974 -0.043274\n",
              "3  1.070017  0.414476 -1.207493 -0.145490 -0.218974 -0.043274\n",
              "4 -0.768697  1.390122  1.147371 -0.145490 -0.218974 -0.043274"
            ]
          },
          "metadata": {
            "tags": []
          },
          "execution_count": 6
        }
      ]
    },
    {
      "cell_type": "code",
      "metadata": {
        "id": "2Pg4zZVop26S"
      },
      "source": [
        "#standardized data\n",
        "# from sklearn.model_selection import train_test_split\n",
        "\n",
        "#splitting X and y into train and test data\n",
        "# X_train, X_test, y_train, y_test = train_test_split(X_stand, y, test_size=0.3)"
      ],
      "execution_count": null,
      "outputs": []
    },
    {
      "cell_type": "markdown",
      "metadata": {
        "id": "Yu4Nslo_jlm5"
      },
      "source": [
        "# Perceptron Algorithm"
      ]
    },
    {
      "cell_type": "code",
      "metadata": {
        "id": "DATKLwhkatJ4"
      },
      "source": [
        "def perceptron_imp() -> (float,float):\n",
        "\n",
        "  #initializing x0 as a list of column of ones\n",
        "  x0 =[1]*X_train.shape[0]\n",
        "\n",
        "  #inserting column of ones into training features\n",
        "  X_train_with_x0 = X_train.copy()\n",
        "  X_train_with_x0.insert(0,'x0',x0)\n",
        "  # X_train_with_x0.loc[:,'x0'] = 1 #fill none values\n",
        "\n",
        "  #initializing x0 as a list of column of ones\n",
        "  x0 =[1]*X_test.shape[0]\n",
        "\n",
        "  #inserting column of ones into test features\n",
        "  X_test_with_x0 = X_test.copy()\n",
        "  X_test_with_x0.insert(0,'x0',x0)\n",
        "  # X_test_with_x0.loc[:,'x0'] = 1  #fill none values\n",
        "\n",
        "  #initializing the w vector\n",
        "  w = np.zeros(X_train.shape[1])\n",
        "\n",
        "  #applying the perceptron algorithm\n",
        "  for i in range(y_train.shape[0]):\n",
        "    while(np.inner(w, X_train.iloc[i]) * y_train.iloc[i] <= 0):\n",
        "      w = w + y_train.iloc[i]*X_train.iloc[i]\n",
        "\n",
        "  #predicting the hypothesis line \n",
        "  y_pred_test = pd.Series(np.sign(np.inner(w, X_test)))\n",
        "  y_pred_train = pd.Series(np.sign(np.inner(w, X_train)))\n",
        "  #print(y_pred_test.value_counts())\n",
        "  #print(y_test.value_counts())\n",
        "\n",
        "  #resetting indices manually \n",
        "  # l = []\n",
        "  # for x in range(y_test.shape[0]):\n",
        "  #   l.append(x)\n",
        "  # y_pred_test.index = l\n",
        "  # y_test.index = l\n",
        "  # l = []\n",
        "  # for x in range(y_test.shape[0]):\n",
        "  #   l.append(x)\n",
        "  # y_pred_train.index = l\n",
        "  # y_train.index = l\n",
        "\n",
        "  y_pred_test.reset_index(drop=True,inplace=True)\n",
        "  y_test.reset_index(drop=True, inplace=True)\n",
        "  y_pred_train.reset_index(drop=True, inplace=True)\n",
        "  y_train.reset_index(drop=True, inplace=True)\n",
        "\n",
        "  #finding accuracy\n",
        "  c1 = y_pred_test == y_test\n",
        "  c2 = y_pred_train == y_train\n",
        "  # print(c.value_counts())\n",
        "  return c1.groupby(c1).count()[1] / y_test.shape[0] * 100, c2.groupby(c2).count()[1] / y_train.shape[0] * 100"
      ],
      "execution_count": null,
      "outputs": []
    },
    {
      "cell_type": "code",
      "metadata": {
        "id": "nolE8td1rCE9"
      },
      "source": [
        "def perceptron_lib():\n",
        "\n",
        "  #verifying the above result using library function of perceptron algorithm\n",
        "  from sklearn.linear_model import Perceptron\n",
        "\n",
        "  #model \n",
        "  lib_perceptron = Perceptron()\n",
        "\n",
        "  #train the data\n",
        "  lib_perceptron.fit(X_train, y_train)\n",
        "\n",
        "  #predict for test data\n",
        "  y_pred_lib = pd.Series(lib_perceptron.predict(X_test))\n",
        "\n",
        "  # print(y_pred_lib.value_counts())\n",
        "  # print(y_test.value_counts())\n",
        "  # y_pred_lib.index = l\n",
        "  # c = y_pred_lib == y_test\n",
        "  # print(c.value_counts())\n",
        "\n",
        "  #returning test and train accuracy\n",
        "  return lib_perceptron.score(X_test, y_test)*100, lib_perceptron.score(X_train, y_train)*100"
      ],
      "execution_count": null,
      "outputs": []
    },
    {
      "cell_type": "markdown",
      "metadata": {
        "id": "x2bPOA1yjgLD"
      },
      "source": [
        "# Logistic Regression"
      ]
    },
    {
      "cell_type": "code",
      "metadata": {
        "id": "_euuMogDvMwc"
      },
      "source": [
        "def logregClassifier():\n",
        "\n",
        "  from sklearn.linear_model import LogisticRegression\n",
        "  logres = LogisticRegression()\n",
        "  logres.fit(X_train, y_train)\n",
        "  # y_pred_lib = pd.Series(logres.predict(X_test))\n",
        "  # print(y_pred_lib.value_counts())\n",
        "  # print(y_test.value_counts())\n",
        "\n",
        "  # y_pred_lib.index = l\n",
        "  # y_test.index = l\n",
        "  # c = y_pred_lib == y_test\n",
        "  # print(\"Accuracy of Logistic Regression :\", c.value_counts()[1] / len(y_test)*100)   #This formula is correct for finding accuracy.\n",
        "  # print(logres.predict_proba(X_test))\n",
        "\n",
        "  #returning test and train accuracy\n",
        "  return logres.score(X_test, y_test)*100, logres.score(X_train, y_train)*100"
      ],
      "execution_count": null,
      "outputs": []
    },
    {
      "cell_type": "markdown",
      "metadata": {
        "id": "pfZpnOX5CVOW"
      },
      "source": [
        "#SGD Classifier"
      ]
    },
    {
      "cell_type": "code",
      "metadata": {
        "id": "mK6vzVCuvLgT"
      },
      "source": [
        "def sgdClassifier():\n",
        "\n",
        "  from sklearn.linear_model import SGDClassifier\n",
        "  clf = SGDClassifier(loss='log')\n",
        "  clf.fit(X_train, y_train)\n",
        "  # y_pred_lib = pd.Series(clf.predict(X_test))\n",
        "  # print(y_pred_lib.value_counts())\n",
        "  # print(y_test.value_counts())\n",
        "\n",
        "  # y_pred_lib.index = l\n",
        "  # y_test.index = l\n",
        "  # c = y_pred_lib == y_test\n",
        "  # print(\"Accuracy of Logistic Regression :\", c.value_counts()[1] / len(y_test)*100)   #This formula is correct for finding accuracy.\n",
        "  # print(logres.predict_proba(X_test))\n",
        "\n",
        "    #returning test and train accuracy\n",
        "  return clf.score(X_test, y_test)*100, clf.score(X_train, y_train)*100"
      ],
      "execution_count": null,
      "outputs": []
    },
    {
      "cell_type": "markdown",
      "metadata": {
        "id": "vgZkPN_UEFLr"
      },
      "source": [
        "# SVM"
      ]
    },
    {
      "cell_type": "code",
      "metadata": {
        "id": "5fse91Ub8N36"
      },
      "source": [
        "def svm_linear_50():\n",
        "\n",
        "  from sklearn import svm\n",
        "\n",
        "  #using svc with linear kernel\n",
        "  svc = svm.SVC(kernel = 'linear', C=50)  #C=100\n",
        "  c = svc.C\n",
        "\n",
        "  #train data\n",
        "  svc.fit(X_train, y_train)\n",
        "\n",
        "  #number of support vectors\n",
        "  print('Number of Support Vectors for SVM Linear with C=50 :',svc.n_support_)\n",
        "\n",
        "  #predict test data\n",
        "  # y_pred = svc.predict(X_test)\n",
        "\n",
        "  #returning test and train accuracy\n",
        "  return svc.score(X_test, y_test)*100, svc.score(X_train, y_train)*100"
      ],
      "execution_count": null,
      "outputs": []
    },
    {
      "cell_type": "code",
      "metadata": {
        "id": "Qu7z6I1iDbVh"
      },
      "source": [
        "# def svm_linear_10():\n",
        "\n",
        "#   from sklearn import svm\n",
        "\n",
        "#   #using svc with linear kernel\n",
        "#   svc = svm.SVC(kernel = 'linear', C=10)\n",
        "#   c = svc.C\n",
        "#   #train data\n",
        "#   svc.fit(X_train, y_train)\n",
        "\n",
        "#   #number of support vectors\n",
        "#   print('Number of Support Vectors for SVM Linear with C=10 :',svc.n_support_)\n",
        "\n",
        "#   #predict test data\n",
        "#   # y_pred = svc.predict(X_test)\n",
        "#   return svc.score(X_test, y_test)*100"
      ],
      "execution_count": null,
      "outputs": []
    },
    {
      "cell_type": "code",
      "metadata": {
        "id": "83pH2Yy_Ddlj"
      },
      "source": [
        "# def svm_linear_1():\n",
        "\n",
        "#   from sklearn import svm\n",
        "\n",
        "#   #using svc with linear kernel\n",
        "#   svc = svm.SVC(kernel = 'linear', C=1)\n",
        "#   c = svc.C\n",
        "#   #train data\n",
        "#   svc.fit(X_train, y_train)\n",
        "\n",
        "#   #number of support vectors\n",
        "#   print('Number of Support Vectors for SVM Linear with C=1 :',svc.n_support_)\n",
        "\n",
        "#   #predict test data\n",
        "#   # y_pred = svc.predict(X_test)\n",
        "#   return svc.score(X_test, y_test)*100"
      ],
      "execution_count": null,
      "outputs": []
    },
    {
      "cell_type": "code",
      "metadata": {
        "id": "wToywciJDfU3"
      },
      "source": [
        "# def svm_linear_dot1():\n",
        "\n",
        "#   from sklearn import svm\n",
        "\n",
        "#   #using svc with linear kernel\n",
        "#   svc = svm.SVC(kernel = 'linear', C=0.1)\n",
        "#   c = svc.C\n",
        "\n",
        "#   #train data\n",
        "#   svc.fit(X_train, y_train)\n",
        "\n",
        "#   #number of support vectors\n",
        "#   print('Number of Support Vectors for SVM Linear with C=0.1:',svc.n_support_)\n",
        "\n",
        "#   #predict test data\n",
        "#   # y_pred = svc.predict(X_test)\n",
        "#   return svc.score(X_test, y_test)*100"
      ],
      "execution_count": null,
      "outputs": []
    },
    {
      "cell_type": "code",
      "metadata": {
        "id": "ktQd-X69Dr1l"
      },
      "source": [
        "# def svm_linear_dot01():\n",
        "\n",
        "#   from sklearn import svm\n",
        "\n",
        "#   #using svc with linear kernel\n",
        "#   svc = svm.SVC(kernel = 'linear', C=0.01)\n",
        "#   c = svc.C\n",
        "\n",
        "#   #train data\n",
        "#   svc.fit(X_train, y_train)\n",
        "\n",
        "#   #number of support vectors\n",
        "#   print('Number of Support Vectors for SVM Linear with C=0.01:',svc.n_support_)\n",
        "\n",
        "#   #predict test data\n",
        "#   # y_pred = svc.predict(X_test)\n",
        "#   return svc.score(X_test, y_test)*100"
      ],
      "execution_count": null,
      "outputs": []
    },
    {
      "cell_type": "code",
      "metadata": {
        "id": "Y5NIYMtp3RuW"
      },
      "source": [
        "# def svm_linear_dot001():\n",
        "\n",
        "#   from sklearn import svm\n",
        "\n",
        "#   #using svc with linear kernel\n",
        "#   svc = svm.SVC(kernel = 'linear', C=0.001)\n",
        "#   c = svc.C\n",
        "\n",
        "#   #train data\n",
        "#   svc.fit(X_train, y_train)\n",
        "\n",
        "#   #number of support vectors\n",
        "#   print('Number of Support Vectors for SVM Linear with C=0.001:',svc.n_support_)\n",
        "\n",
        "#   #predict test data\n",
        "#   # y_pred = svc.predict(X_test)\n",
        "#   return svc.score(X_test, y_test)*100"
      ],
      "execution_count": null,
      "outputs": []
    },
    {
      "cell_type": "code",
      "metadata": {
        "id": "LkjpqzdH4o65"
      },
      "source": [
        "from sklearn.model_selection import GridSearchCV\n",
        "from sklearn import svm\n",
        "\n",
        "crange = [x*0.001 for x in range(1, 100, 10)]+[x*0.001 for x in range(22, 32)]+[0.0001, 0.1, 1, 5, 10, 50]\n",
        "crange.sort()\n",
        "parameters = {'kernel': ('linear',), 'C':crange}\n",
        "svc = svm.SVC()\n",
        "gscv = GridSearchCV(svc, parameters, refit=True)\n",
        "\n",
        "def svm_linear():\n",
        "  svc.fit(X_train, y_train)\n",
        "\n",
        "  gscv.fit(X_train, y_train)\n",
        "\n",
        "  c = gscv.best_params_['C']\n",
        "\n",
        "  #number of support vectors\n",
        "  print(f'Number of Support Vectors for SVM Linear with C={c}:',svc.n_support_)\n",
        "  # print(gscv.score(X_test, y_test))\n",
        "  # print(gscv.score(X_train, y_train))\n",
        "\n",
        "  # print(gscv.best_params_)\n",
        "\n",
        "  # print(gscv.best_score_)\n",
        "\n",
        "  # print(pd.Series(gscv.cv_results_['mean_test_score'], index=crange))\n",
        "\n",
        "  #return test and train accuracies \n",
        "  return gscv.score(X_test, y_test)*100, gscv.score(X_train, y_train)*100"
      ],
      "execution_count": null,
      "outputs": []
    },
    {
      "cell_type": "code",
      "metadata": {
        "id": "C57-On7UCenA"
      },
      "source": [
        "def svm_poly_1():\n",
        "\n",
        "  from sklearn import svm\n",
        "\n",
        "  #using svc with polynomial kernel \n",
        "  svc = svm.SVC(kernel = 'poly', )\n",
        "\n",
        "  #train data\n",
        "  svc.fit(X_train, y_train)\n",
        "\n",
        "  #number of support vectors\n",
        "  print('Number of Support Vectors for SVM Polynomial with C=1 :',svc.n_support_)\n",
        "\n",
        "  #predict test data\n",
        "  # y_pred = svc.predict(X_test)\n",
        "\n",
        "  #return test and train accuracies \n",
        "  return svc.score(X_test, y_test)*100, svc.score(X_train, y_train)*100\n",
        "  # , svc.n_support_"
      ],
      "execution_count": null,
      "outputs": []
    },
    {
      "cell_type": "code",
      "metadata": {
        "id": "jSjPKOD0Cgsc"
      },
      "source": [
        "def svm_gaussian_1():\n",
        "\n",
        "  from sklearn import svm\n",
        "\n",
        "  #using svc with gaussian kernel\n",
        "  svc = svm.SVC(kernel = 'rbf')\n",
        "\n",
        "  #train data\n",
        "  svc.fit(X_train, y_train)\n",
        "\n",
        "  #number of support vectors\n",
        "  print('Number of Support Vectors for SVM Gaussian with C=1:',svc.n_support_)\n",
        "\n",
        "  #predict test data\n",
        "  # y_pred = svc.predict(X_test)\n",
        "\n",
        "  #return test and train accuracies\n",
        "  return svc.score(X_test, y_test)*100, svc.score(X_train, y_train)*100"
      ],
      "execution_count": null,
      "outputs": []
    },
    {
      "cell_type": "code",
      "metadata": {
        "id": "OUw6eh6XHxLi",
        "colab": {
          "base_uri": "https://localhost:8080/"
        },
        "outputId": "88cc6ca8-2ded-4f3d-a7b3-8b09d52c8bb8"
      },
      "source": [
        "from sklearn.model_selection import train_test_split\n",
        "\n",
        "#declaring output list\n",
        "d = [[None]*6]*3\n",
        "\n",
        "#column list\n",
        "algos = ['Perceptron','Logistic Regression','Logistic Regression using SGD', 'SVM using Polynomial Kernel','SVM using Gaussian Kernel', 'SVM using Linear Kernel']\n",
        "\n",
        "#index for output dataframe\n",
        "idx_out_df = pd.Index(['90:10', '80:20', '70:30'], name='Train-test split')\n",
        "\n",
        "#packing all into dataframe\n",
        "out_df_test = pd.DataFrame(d, columns=algos, dtype = np.float64, index =idx_out_df)\n",
        "out_df_train = pd.DataFrame(d, columns=algos, dtype = np.float64, index =idx_out_df)\n",
        "\n",
        "#index for output dataframe\n",
        "# idx_n_support = pd.Index(['SVM usinge Linear Kernel', 'SVM using Polynomial Kernel','SVM using Gaussian Kernel'])\n",
        "\n",
        "#number of support vectors dataframe\n",
        "# n_support_df = pd.DataFrame(columns=['class 1', 'class 2'], index = idx_n_support)\n",
        "\n",
        "#lists for future use\n",
        "l_algo = [perceptron_imp, logregClassifier, sgdClassifier, svm_poly_1, svm_gaussian_1, svm_linear]\n",
        "\n",
        "for i in range(1, 4): #loop for different train-test splits\n",
        "\n",
        "  print(\"=\"*45+f\"{(10-i)*10}:{i*10}\"+\"=\"*45)\n",
        " \n",
        "\n",
        "  for j in range(5):\n",
        "    sum_test = 0 #take total of 20 iterations\n",
        "    sum_train = 0 #take total of 20 iterations\n",
        "    for itr in range(20):  #every algo runs 20 times\n",
        "      #splitting X and y into train and test data\n",
        "      X_train, X_test, y_train, y_test = train_test_split(X_stand, y, test_size= i/10)\n",
        "      accuracies = l_algo[j]()\n",
        "      sum_test += accuracies[0]\n",
        "      sum_train += accuracies[1]\n",
        "    out_df_test.iloc[i-1,j] = round(sum_test/20,2)\n",
        "    out_df_train.iloc[i-1,j] = round(sum_train/20,2)\n",
        "\n",
        "  #entering linear SVM separately\n",
        "  accuracies = l_algo[5]()\n",
        "  out_df_test.iloc[i-1,5] = accuracies[0]\n",
        "  out_df_train.iloc[i-1,5] = accuracies[1]\n",
        "\n",
        "  # for itr in range(20):  #every algo runs 20 times\n",
        "  #     l[j].append(perceptron_imp())\n",
        "  #     logres_list.append(logregClassifier())\n",
        "  #     sgd_list.append(sgdClassifier())\n",
        "  #     svm_linear_list.append(svm_linear_dot001())  \n",
        "  #     svm_poly_list.append(svm_poly_1())\n",
        "  #     svm_gaussian_list.append(svm_gaussian_1())"
      ],
      "execution_count": null,
      "outputs": [
        {
          "output_type": "stream",
          "text": [
            "=============================================90:10=============================================\n",
            "Number of Support Vectors for SVM Polynomial with C=1 : [1815 1796]\n",
            "Number of Support Vectors for SVM Polynomial with C=1 : [1834 1825]\n",
            "Number of Support Vectors for SVM Polynomial with C=1 : [1828 1818]\n",
            "Number of Support Vectors for SVM Polynomial with C=1 : [1806 1791]\n",
            "Number of Support Vectors for SVM Polynomial with C=1 : [1832 1818]\n",
            "Number of Support Vectors for SVM Polynomial with C=1 : [1793 1782]\n",
            "Number of Support Vectors for SVM Polynomial with C=1 : [1812 1798]\n",
            "Number of Support Vectors for SVM Polynomial with C=1 : [1806 1791]\n",
            "Number of Support Vectors for SVM Polynomial with C=1 : [1802 1796]\n",
            "Number of Support Vectors for SVM Polynomial with C=1 : [1814 1801]\n",
            "Number of Support Vectors for SVM Polynomial with C=1 : [1843 1830]\n",
            "Number of Support Vectors for SVM Polynomial with C=1 : [1815 1801]\n",
            "Number of Support Vectors for SVM Polynomial with C=1 : [1826 1812]\n",
            "Number of Support Vectors for SVM Polynomial with C=1 : [1815 1802]\n",
            "Number of Support Vectors for SVM Polynomial with C=1 : [1814 1806]\n",
            "Number of Support Vectors for SVM Polynomial with C=1 : [1817 1802]\n",
            "Number of Support Vectors for SVM Polynomial with C=1 : [1822 1809]\n",
            "Number of Support Vectors for SVM Polynomial with C=1 : [1825 1814]\n",
            "Number of Support Vectors for SVM Polynomial with C=1 : [1830 1819]\n",
            "Number of Support Vectors for SVM Polynomial with C=1 : [1796 1787]\n",
            "Number of Support Vectors for SVM Gaussian with C=1: [1864 1742]\n",
            "Number of Support Vectors for SVM Gaussian with C=1: [1851 1740]\n",
            "Number of Support Vectors for SVM Gaussian with C=1: [1875 1764]\n",
            "Number of Support Vectors for SVM Gaussian with C=1: [1858 1749]\n",
            "Number of Support Vectors for SVM Gaussian with C=1: [1837 1731]\n",
            "Number of Support Vectors for SVM Gaussian with C=1: [1856 1752]\n",
            "Number of Support Vectors for SVM Gaussian with C=1: [1857 1748]\n",
            "Number of Support Vectors for SVM Gaussian with C=1: [1863 1756]\n",
            "Number of Support Vectors for SVM Gaussian with C=1: [1856 1737]\n",
            "Number of Support Vectors for SVM Gaussian with C=1: [1846 1733]\n",
            "Number of Support Vectors for SVM Gaussian with C=1: [1853 1742]\n",
            "Number of Support Vectors for SVM Gaussian with C=1: [1856 1730]\n",
            "Number of Support Vectors for SVM Gaussian with C=1: [1858 1754]\n",
            "Number of Support Vectors for SVM Gaussian with C=1: [1839 1723]\n",
            "Number of Support Vectors for SVM Gaussian with C=1: [1859 1750]\n",
            "Number of Support Vectors for SVM Gaussian with C=1: [1839 1732]\n",
            "Number of Support Vectors for SVM Gaussian with C=1: [1869 1763]\n",
            "Number of Support Vectors for SVM Gaussian with C=1: [1862 1755]\n",
            "Number of Support Vectors for SVM Gaussian with C=1: [1829 1725]\n",
            "Number of Support Vectors for SVM Gaussian with C=1: [1852 1750]\n",
            "Number of Support Vectors for SVM Linear with C=0.025: [1852 1750]\n",
            "=============================================80:20=============================================\n",
            "Number of Support Vectors for SVM Polynomial with C=1 : [1628 1616]\n",
            "Number of Support Vectors for SVM Polynomial with C=1 : [1603 1599]\n",
            "Number of Support Vectors for SVM Polynomial with C=1 : [1616 1610]\n",
            "Number of Support Vectors for SVM Polynomial with C=1 : [1639 1627]\n",
            "Number of Support Vectors for SVM Polynomial with C=1 : [1610 1597]\n",
            "Number of Support Vectors for SVM Polynomial with C=1 : [1631 1621]\n",
            "Number of Support Vectors for SVM Polynomial with C=1 : [1601 1590]\n",
            "Number of Support Vectors for SVM Polynomial with C=1 : [1597 1585]\n",
            "Number of Support Vectors for SVM Polynomial with C=1 : [1641 1630]\n",
            "Number of Support Vectors for SVM Polynomial with C=1 : [1619 1602]\n",
            "Number of Support Vectors for SVM Polynomial with C=1 : [1623 1615]\n",
            "Number of Support Vectors for SVM Polynomial with C=1 : [1608 1601]\n",
            "Number of Support Vectors for SVM Polynomial with C=1 : [1618 1607]\n",
            "Number of Support Vectors for SVM Polynomial with C=1 : [1619 1609]\n",
            "Number of Support Vectors for SVM Polynomial with C=1 : [1630 1617]\n",
            "Number of Support Vectors for SVM Polynomial with C=1 : [1615 1606]\n",
            "Number of Support Vectors for SVM Polynomial with C=1 : [1623 1611]\n",
            "Number of Support Vectors for SVM Polynomial with C=1 : [1598 1584]\n",
            "Number of Support Vectors for SVM Polynomial with C=1 : [1614 1603]\n",
            "Number of Support Vectors for SVM Polynomial with C=1 : [1618 1606]\n",
            "Number of Support Vectors for SVM Gaussian with C=1: [1651 1564]\n",
            "Number of Support Vectors for SVM Gaussian with C=1: [1636 1531]\n",
            "Number of Support Vectors for SVM Gaussian with C=1: [1681 1567]\n",
            "Number of Support Vectors for SVM Gaussian with C=1: [1671 1559]\n",
            "Number of Support Vectors for SVM Gaussian with C=1: [1648 1546]\n",
            "Number of Support Vectors for SVM Gaussian with C=1: [1676 1563]\n",
            "Number of Support Vectors for SVM Gaussian with C=1: [1650 1553]\n",
            "Number of Support Vectors for SVM Gaussian with C=1: [1653 1563]\n",
            "Number of Support Vectors for SVM Gaussian with C=1: [1659 1553]\n",
            "Number of Support Vectors for SVM Gaussian with C=1: [1650 1541]\n",
            "Number of Support Vectors for SVM Gaussian with C=1: [1648 1556]\n",
            "Number of Support Vectors for SVM Gaussian with C=1: [1607 1529]\n",
            "Number of Support Vectors for SVM Gaussian with C=1: [1659 1564]\n",
            "Number of Support Vectors for SVM Gaussian with C=1: [1656 1571]\n",
            "Number of Support Vectors for SVM Gaussian with C=1: [1648 1546]\n",
            "Number of Support Vectors for SVM Gaussian with C=1: [1669 1561]\n",
            "Number of Support Vectors for SVM Gaussian with C=1: [1677 1567]\n",
            "Number of Support Vectors for SVM Gaussian with C=1: [1658 1550]\n",
            "Number of Support Vectors for SVM Gaussian with C=1: [1658 1550]\n",
            "Number of Support Vectors for SVM Gaussian with C=1: [1681 1577]\n",
            "Number of Support Vectors for SVM Linear with C=0.021: [1681 1577]\n",
            "=============================================70:30=============================================\n",
            "Number of Support Vectors for SVM Polynomial with C=1 : [1429 1412]\n",
            "Number of Support Vectors for SVM Polynomial with C=1 : [1413 1399]\n",
            "Number of Support Vectors for SVM Polynomial with C=1 : [1427 1414]\n",
            "Number of Support Vectors for SVM Polynomial with C=1 : [1420 1404]\n",
            "Number of Support Vectors for SVM Polynomial with C=1 : [1427 1416]\n",
            "Number of Support Vectors for SVM Polynomial with C=1 : [1416 1393]\n",
            "Number of Support Vectors for SVM Polynomial with C=1 : [1419 1404]\n",
            "Number of Support Vectors for SVM Polynomial with C=1 : [1422 1405]\n",
            "Number of Support Vectors for SVM Polynomial with C=1 : [1449 1437]\n",
            "Number of Support Vectors for SVM Polynomial with C=1 : [1414 1403]\n",
            "Number of Support Vectors for SVM Polynomial with C=1 : [1427 1416]\n",
            "Number of Support Vectors for SVM Polynomial with C=1 : [1429 1416]\n",
            "Number of Support Vectors for SVM Polynomial with C=1 : [1410 1397]\n",
            "Number of Support Vectors for SVM Polynomial with C=1 : [1439 1426]\n",
            "Number of Support Vectors for SVM Polynomial with C=1 : [1441 1428]\n",
            "Number of Support Vectors for SVM Polynomial with C=1 : [1412 1397]\n",
            "Number of Support Vectors for SVM Polynomial with C=1 : [1429 1418]\n",
            "Number of Support Vectors for SVM Polynomial with C=1 : [1423 1413]\n",
            "Number of Support Vectors for SVM Polynomial with C=1 : [1391 1384]\n",
            "Number of Support Vectors for SVM Polynomial with C=1 : [1403 1392]\n",
            "Number of Support Vectors for SVM Gaussian with C=1: [1452 1366]\n",
            "Number of Support Vectors for SVM Gaussian with C=1: [1445 1357]\n",
            "Number of Support Vectors for SVM Gaussian with C=1: [1448 1341]\n",
            "Number of Support Vectors for SVM Gaussian with C=1: [1484 1363]\n",
            "Number of Support Vectors for SVM Gaussian with C=1: [1466 1377]\n",
            "Number of Support Vectors for SVM Gaussian with C=1: [1463 1384]\n",
            "Number of Support Vectors for SVM Gaussian with C=1: [1447 1371]\n",
            "Number of Support Vectors for SVM Gaussian with C=1: [1461 1378]\n",
            "Number of Support Vectors for SVM Gaussian with C=1: [1449 1369]\n",
            "Number of Support Vectors for SVM Gaussian with C=1: [1416 1325]\n",
            "Number of Support Vectors for SVM Gaussian with C=1: [1486 1375]\n",
            "Number of Support Vectors for SVM Gaussian with C=1: [1462 1378]\n",
            "Number of Support Vectors for SVM Gaussian with C=1: [1428 1341]\n",
            "Number of Support Vectors for SVM Gaussian with C=1: [1499 1369]\n",
            "Number of Support Vectors for SVM Gaussian with C=1: [1433 1347]\n",
            "Number of Support Vectors for SVM Gaussian with C=1: [1452 1350]\n",
            "Number of Support Vectors for SVM Gaussian with C=1: [1446 1359]\n",
            "Number of Support Vectors for SVM Gaussian with C=1: [1486 1379]\n",
            "Number of Support Vectors for SVM Gaussian with C=1: [1467 1366]\n",
            "Number of Support Vectors for SVM Gaussian with C=1: [1442 1351]\n",
            "Number of Support Vectors for SVM Linear with C=0.027: [1442 1351]\n"
          ],
          "name": "stdout"
        }
      ]
    },
    {
      "cell_type": "code",
      "metadata": {
        "id": "QezF-9kn-qY6",
        "colab": {
          "base_uri": "https://localhost:8080/",
          "height": 823
        },
        "outputId": "31dcc6d1-c9aa-4196-fecf-75829a37b252"
      },
      "source": [
        "import matplotlib.pyplot as plt\n",
        "\n",
        "# set width of bar\n",
        "barWidth = 0.25\n",
        "\n",
        "#assign rows of out_df_test dataframe to each of the variables \n",
        "bar1 = list(out_df_test.iloc[0])\n",
        "bar2 = list(out_df_test.iloc[1])\n",
        "bar3 = list(out_df_test.iloc[2])\n",
        "\n",
        "# Set position of bar on X axis\n",
        "r1 = np.arange(len(bar1))\n",
        "r2 = [x + barWidth for x in r1]\n",
        "r3 = [x + barWidth for x in r2]\n",
        "\n",
        "# Make the plot\n",
        "plt.bar(r1, bar1, color='#7f6d5f', width=barWidth, edgecolor='white', label='90:10 split')\n",
        "plt.bar(r2, bar2, color='#557f2d', width=barWidth, edgecolor='white', label='80:20 split')\n",
        "plt.bar(r3, bar3, color='#2d7f5e', width=barWidth, edgecolor='white', label='70:30 split')\n",
        " \n",
        "# Add xticks on the middle of the group bars\n",
        "plt.xlabel('Linear Classifiers', fontweight='bold')\n",
        "plt.ylabel('Mean Test Accuracy (in %)',  fontweight='bold')\n",
        "plt.xticks([r + barWidth for r in r1], ['Perceptron','Logistic Regression','Logistic Regression using SGD', 'SVM using Polynomial Kernel','SVM using Gaussian Kernel', 'SVM using Linear Kernel'], rotation='vertical')\n",
        "\n",
        "# Create legend & Show graphic\n",
        "plt.legend()\n",
        "plt.show()\n",
        "\n"
      ],
      "execution_count": null,
      "outputs": [
        {
          "output_type": "display_data",
          "data": {
            "image/png": "[encoded data removed]",
            "text/plain": [
              "<Figure size 432x288 with 1 Axes>"
            ]
          },
          "metadata": {
            "tags": [],
            "needs_background": "light"
          }
        },
        {
          "output_type": "display_data",
          "data": {
            "image/png": "[encoded data removed]",
            "text/plain": [
              "<Figure size 432x288 with 1 Axes>"
            ]
          },
          "metadata": {
            "tags": [],
            "needs_background": "light"
          }
        }
      ]
    },
    {
      "cell_type": "code",
      "metadata": {
        "id": "2RPaCXeqzoVf",
        "colab": {
          "base_uri": "https://localhost:8080/",
          "height": 823
        },
        "outputId": "db543e1c-d5e7-4431-cd5f-e005a4c88f2a"
      },
      "source": [
        "import matplotlib.pyplot as plt\n",
        "\n",
        "# set width of bar\n",
        "barWidth = 0.25\n",
        "\n",
        "#assign rows of out_df_train dataframe to each of the variables \n",
        "bar1 = list(out_df_train.iloc[0])\n",
        "bar2 = list(out_df_train.iloc[1])\n",
        "bar3 = list(out_df_train.iloc[2])\n",
        "\n",
        "# Set position of bar on X axis\n",
        "r1 = np.arange(len(bar1))\n",
        "r2 = [x + barWidth for x in r1]\n",
        "r3 = [x + barWidth for x in r2]\n",
        "\n",
        "# Make the plot\n",
        "plt.bar(r1, bar1, color='#7f6d5f', width=barWidth, edgecolor='white', label='90:10 split')\n",
        "plt.bar(r2, bar2, color='#557f2d', width=barWidth, edgecolor='white', label='80:20 split')\n",
        "plt.bar(r3, bar3, color='#2d7f5e', width=barWidth, edgecolor='white', label='70:30 split')\n",
        " \n",
        "# Add xticks on the middle of the group bars\n",
        "plt.xlabel('Linear Classifiers', fontweight='bold')\n",
        "plt.ylabel('Mean Training Accuracy (in %)',  fontweight='bold')\n",
        "plt.xticks([r + barWidth for r in r1], ['Perceptron','Logistic Regression','Logistic Regression using SGD', 'SVM using Polynomial Kernel','SVM using Gaussian Kernel', 'SVM using Linear Kernel'], rotation='vertical')\n",
        "\n",
        "# Create legend & Show graphic\n",
        "plt.legend()\n",
        "plt.show()\n",
        "\n"
      ],
      "execution_count": null,
      "outputs": [
        {
          "output_type": "display_data",
          "data": {
            "image/png": "[encoded data removed]",
            "text/plain": [
              "<Figure size 432x288 with 1 Axes>"
            ]
          },
          "metadata": {
            "tags": [],
            "needs_background": "light"
          }
        },
        {
          "output_type": "display_data",
          "data": {
            "image/png": "[encoded data removed]",
            "text/plain": [
              "<Figure size 432x288 with 1 Axes>"
            ]
          },
          "metadata": {
            "tags": [],
            "needs_background": "light"
          }
        }
      ]
    },
    {
      "cell_type": "code",
      "metadata": {
        "id": "nkezzBeutT8b"
      },
      "source": [
        "crange = [round(x,4) for x in crange]"
      ],
      "execution_count": null,
      "outputs": []
    },
    {
      "cell_type": "code",
      "metadata": {
        "id": "_jStZDLPY3vQ",
        "colab": {
          "base_uri": "https://localhost:8080/",
          "height": 599
        },
        "outputId": "d688d5cf-6759-4d4a-8009-acb61af4d5f3"
      },
      "source": [
        "#plotting c versus accuracy for linear svm\n",
        "\n",
        "#assign accuracy values to bar\n",
        "y_data = gscv.cv_results_['mean_test_score']\n",
        "bar = [x*100 for x in y_data]\n",
        "\n",
        "# Set position of bar on X axis\n",
        "r = np.arange(len(bar))\n",
        "\n",
        "#Make the plot\n",
        "plt.bar(r, bar, width=barWidth)\n",
        "\n",
        "#finding c corresponding to max value\n",
        "ymax = max(bar)\n",
        "xpos = bar.index(ymax)\n",
        "xmax = r[xpos]\n",
        "\n",
        "# Add xticks on the bars\n",
        "plt.xlabel('Regularization Parameter', fontweight='bold')\n",
        "plt.ylabel('Mean Test Accuracy (in %)',  fontweight='bold')\n",
        "plt.xticks(r, labels=crange, rotation='vertical')\n",
        "plt.ylim(top = 90)\n",
        "\n",
        "#add annotation to max value\n",
        "plt.annotate(f'max (c = {crange[xpos]})', (xmax,ymax), (xmax+1, ymax+5), arrowprops=dict(facecolor='orange', shrink=0.05), fontvariant='small-caps', fontweight='bold', color='orange')\n",
        "\n",
        "#Show graphic\n",
        "plt.show()\n"
      ],
      "execution_count": null,
      "outputs": [
        {
          "output_type": "display_data",
          "data": {
            "image/png": "[encoded data removed]",
            "text/plain": [
              "<Figure size 432x288 with 1 Axes>"
            ]
          },
          "metadata": {
            "tags": [],
            "needs_background": "light"
          }
        },
        {
          "output_type": "display_data",
          "data": {
            "image/png": "[encoded data removed]",
            "text/plain": [
              "<Figure size 432x288 with 1 Axes>"
            ]
          },
          "metadata": {
            "tags": [],
            "needs_background": "light"
          }
        }
      ]
    }
  ]
}